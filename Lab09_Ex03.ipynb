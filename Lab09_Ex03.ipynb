{
 "cells": [
  {
   "cell_type": "markdown",
   "metadata": {
    "dotnet_interactive": {
     "language": "csharp"
    },
    "polyglot_notebook": {
     "kernelName": "csharp"
    }
   },
   "source": [
    "# Lab 9 Exercise 3\n",
    "\n",
    "## Instance vs static members\n"
   ]
  },
  {
   "cell_type": "markdown",
   "metadata": {},
   "source": [
    "\n",
    "1. สร้าง console application project\n",
    "\n",
    "```cmd\n",
    "    dotnet new console --name Lab09_Ex03\n",
    "```\n"
   ]
  },
  {
   "cell_type": "markdown",
   "metadata": {},
   "source": [
    "\n",
    "2. เปลี่ยน code ให้เป็นดังต่อไปนี้\n",
    "\n",
    "```csharp\n",
    "    Person.name = \"____Person name _____\";\n",
    "    System.Cοnsο1e.write1ine(Person.GetName());\n",
    "    var student = new Student();\n",
    "    student.name = \"_______student name_______\";\n",
    "    System.Conso1e.ωrite1ine(student.GetName());\n",
    "\n",
    "    static Class Person\n",
    "    {\n",
    "        static  pub1ic string? name;\n",
    "        static  pub1ic string GetName()\n",
    "        {\n",
    "            return $\"Hello from {nawe}\";\n",
    "        }\n",
    "    }\n",
    "\n",
    "    class Student : Person\n",
    "    {\n",
    "        \n",
    "    }\n",
    "```\n"
   ]
  },
  {
   "cell_type": "markdown",
   "metadata": {},
   "source": [
    "\n",
    "3. Build project โดยการใช้คำสั่ง\n",
    "\n",
    "```cmd\n",
    "dotnet bul1d  Lab09_Ex03\n",
    "```\n",
    "\n",
    "ถ้ามีที่ผิดพลาดในโปรแกรม ให้แก้ไขให้ถูกต้อง\n"
   ]
  },
  {
   "cell_type": "code",
   "execution_count": 1,
   "metadata": {
    "polyglot_notebook": {
     "kernelName": "csharp"
    }
   },
   "outputs": [
    {
     "name": "stdout",
     "output_type": "stream",
     "text": [
      "Hello from POR\n",
      "Hello from POR\n"
     ]
    }
   ],
   "source": [
    "Person.name = \"POR\";\n",
    "Console.WriteLine(Person.GetName());\n",
    "var student = new Student();\n",
    "Person.name = \"POR\";\n",
    "Console.WriteLine(Person.GetName());\n",
    "\n",
    "class Person\n",
    "{\n",
    "    public static  string? name;\n",
    "    public static  string GetName()\n",
    "    {\n",
    "        return $\"Hello from {name}\";\n",
    "    }\n",
    "}\n",
    "\n",
    "    class Student : Person\n",
    "{\n",
    "        \n",
    "}"
   ]
  },
  {
   "cell_type": "markdown",
   "metadata": {},
   "source": []
  },
  {
   "cell_type": "markdown",
   "metadata": {},
   "source": [
    "\n",
    "4. บันทึกผลที่ได้จากการรันคำสั่งในข้อ 3 \n"
   ]
  },
  {
   "cell_type": "markdown",
   "metadata": {},
   "source": [
    "D:\\LAB9-OOP>dotnet build Lab09_Ex03             \n",
    "Restore complete (0.3s)\n",
    "  Lab09_Ex03 succeeded (0.5s) → Lab09_Ex03\\bin\\Debug\\net9.0\\Lab09_Ex03.dll\n",
    "\n",
    "Build succeeded in 1.2s"
   ]
  },
  {
   "cell_type": "markdown",
   "metadata": {},
   "source": []
  },
  {
   "cell_type": "markdown",
   "metadata": {},
   "source": [
    "\n",
    "5. Run project โดยการใช้คำสั่ง\n",
    "\n",
    "```cmd\n",
    "dotnet rum --project Lab09_Ex03\n",
    "```\n"
   ]
  },
  {
   "cell_type": "markdown",
   "metadata": {},
   "source": [
    "\n",
    "6. บันทึกผลที่ได้จากการรันคำสั่งในข้อ 5\n"
   ]
  },
  {
   "cell_type": "markdown",
   "metadata": {},
   "source": [
    "D:\\LAB9-OOP>dotnet run --project Lab09_Ex03     \n",
    "Hello from POR\n",
    "Hello from POR"
   ]
  },
  {
   "cell_type": "markdown",
   "metadata": {},
   "source": []
  },
  {
   "cell_type": "markdown",
   "metadata": {},
   "source": [
    "\n",
    "7. อธิบายสิ่งที่พบในการทดลอง"
   ]
  },
  {
   "cell_type": "markdown",
   "metadata": {},
   "source": [
    "กำหนดค่า name ในที่ใดที่หนึ่ง (ไม่ว่าจะเป็นใน Person หรือ Student) จะมีผลกับทั้งสอง"
   ]
  },
  {
   "cell_type": "markdown",
   "metadata": {},
   "source": []
  },
  {
   "cell_type": "markdown",
   "metadata": {},
   "source": [
    "## คำถาม"
   ]
  },
  {
   "cell_type": "markdown",
   "metadata": {},
   "source": [
    "1. ในภาษา C# นั้น Instance members และ static members  แตกต่างกันอย่างไร"
   ]
  },
  {
   "cell_type": "markdown",
   "metadata": {},
   "source": [
    "Instance Membersใช้เมื่อข้อมูลหรือฟังก์ชันที่ต้องการเก็บเกี่ยวข้องกับออบเจ็กต์แต่ละตัว\n",
    "\n",
    "Static Members ใช้เมื่อข้อมูลหรือฟังก์ชันที่ต้องการเก็บเกี่ยวข้องกับคลาสทั้งหมด"
   ]
  },
  {
   "cell_type": "markdown",
   "metadata": {},
   "source": []
  },
  {
   "cell_type": "markdown",
   "metadata": {},
   "source": [
    "2. เข้าถึง Instance members และ static members มีหลักการที่แตกต่างกันอย่างไร"
   ]
  },
  {
   "cell_type": "markdown",
   "metadata": {},
   "source": [
    "Instance Members เข้าถึงผ่านอินสแตนซ์ของคลาส (ต้องสร้างออบเจ็กต์ก่อน)และมีค่าที่แตกต่างกันในแต่ละออบเจ็กต์\n",
    "\n",
    "Static Members เข้าถึงได้ผ่านชื่อคลาสโดยตรง (ไม่ต้องสร้างออบเจ็กต์) และค่าของมันใช้ร่วมกันระหว่างออบเจ็กต์ทั้งหมด"
   ]
  },
  {
   "cell_type": "markdown",
   "metadata": {},
   "source": []
  },
  {
   "cell_type": "markdown",
   "metadata": {},
   "source": [
    "3. Instance members และ static members เหมาะกับการใช้งานแบบไหน"
   ]
  },
  {
   "cell_type": "markdown",
   "metadata": {},
   "source": [
    "ใช้ instance members เมื่อต้องการจัดการข้อมูลที่มีสถานะเฉพาะตัวในแต่ละออบเจ็กต์\n",
    "\n",
    "ใช้ static members เมื่อข้อมูลหรือฟังก์ชันนั้นๆ ใช้ร่วมกันระหว่างทุกอินสแตนซ์ของคลาสเดียวกัน หรือไม่จำเป็นต้องสร้างออบเจ็กต์"
   ]
  },
  {
   "cell_type": "markdown",
   "metadata": {},
   "source": []
  },
  {
   "cell_type": "markdown",
   "metadata": {},
   "source": [
    "4. Instance members และ static members ใช้หน่วยความจำต่างกันอย่างไร"
   ]
  },
  {
   "cell_type": "markdown",
   "metadata": {},
   "source": [
    "Instance members จะใช้หน่วยความจำแยกต่างหากสำหรับแต่ละออบเจ็กต์และมีการจัดสรรหน่วยความจำใหม่ทุกครั้งที่สร้างออบเจ็กต์\n",
    "\n",
    "Static members จะใช้หน่วยความจำเดียวกันสำหรับทุกออบเจ็กต์ของคลาส และมีการจัดสรรหน่วยความจำเพียงครั้งเดียวเมื่อโปรแกรมเริ่มทำงาน"
   ]
  },
  {
   "cell_type": "markdown",
   "metadata": {},
   "source": []
  },
  {
   "cell_type": "markdown",
   "metadata": {},
   "source": [
    "5. Instance members และ static members มีอายุการใช้งานต่างกันอย่างไร"
   ]
  },
  {
   "cell_type": "markdown",
   "metadata": {},
   "source": [
    "Instance members จะมีอายุการใช้งานที่จำกัดและถูกเก็บในหน่วยความจำจนกว่าออบเจ็กต์ที่เป็นเจ้าของจะถูกทำลาย\n",
    "\n",
    "Static members จะมีอายุการใช้งานตลอดช่วงชีวิตของโปรแกรม และถูกจัดเก็บในหน่วยความจำจนกระทั่งโปรแกรมสิ้นสุด"
   ]
  },
  {
   "cell_type": "markdown",
   "metadata": {},
   "source": []
  },
  {
   "cell_type": "markdown",
   "metadata": {},
   "source": [
    "6. Instance members และ static members สามารถใช้งานร่วมกันได้หรือไม่"
   ]
  },
  {
   "cell_type": "markdown",
   "metadata": {},
   "source": [
    "Static members สามารถเข้าถึง instance members ได้ โดยการสร้างออบเจ็กต์แล้วเข้าถึงผ่านออบเจ็กต์นั้น\n",
    "\n",
    "Instance members สามารถเข้าถึง static members ได้โดยตรง โดยไม่ต้องสร้างออบเจ็กต์ใหม่ เพราะ static members เป็นของคลาส"
   ]
  },
  {
   "cell_type": "markdown",
   "metadata": {},
   "source": []
  },
  {
   "cell_type": "markdown",
   "metadata": {},
   "source": [
    "7. keyword static ใช้กับสมาชิกประเภทใดของคลาสได้บ้าง"
   ]
  },
  {
   "cell_type": "markdown",
   "metadata": {},
   "source": [
    "Static fields (ตัวแปรแบบ Static)\n",
    "\n",
    "Static methods (เมธอดแบบ Static)\n",
    "\n",
    "Static properties (พร็อพเพอร์ตี้แบบ Static)\n",
    "\n",
    "Static constructor (ตัวสร้างแบบ Static)\n",
    "\n",
    "Static indexers (อินเด็กซ์แบบ Static)\n",
    "\n",
    "Static local functions (ฟังก์ชันในบล็อกที่เป็น Static)"
   ]
  },
  {
   "cell_type": "markdown",
   "metadata": {},
   "source": []
  }
 ],
 "metadata": {
  "kernelspec": {
   "display_name": ".NET (C#)",
   "language": "C#",
   "name": ".net-csharp"
  },
  "polyglot_notebook": {
   "kernelInfo": {
    "defaultKernelName": "csharp",
    "items": [
     {
      "aliases": [],
      "languageName": "csharp",
      "name": "csharp"
     }
    ]
   }
  }
 },
 "nbformat": 4,
 "nbformat_minor": 2
}
