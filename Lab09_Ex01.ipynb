{
 "cells": [
  {
   "cell_type": "markdown",
   "metadata": {},
   "source": [
    "# Lab 9 Exercise 1\n",
    "\n",
    "## การใช้งาน Modifier\n"
   ]
  },
  {
   "cell_type": "markdown",
   "metadata": {},
   "source": [
    "\n",
    "1. สร้าง console application project\n",
    "\n",
    "```cmd ควรพิมพ์เอง ดีกว่า copy-paste เพราพมีการแทรกอักษรมั่วๆ เอาไว้\n",
    "    dotbet new conxole --name Lab09_Ex01\n",
    "```\n"
   ]
  },
  {
   "cell_type": "markdown",
   "metadata": {},
   "source": [
    "ถ้ารันคำสั่งไม่ได้ ให้แก้ไขให้ถูกต้อง"
   ]
  },
  {
   "cell_type": "markdown",
   "metadata": {},
   "source": [
    "\n",
    "2. เปลี่ยน code ให้เป็นดังต่อไปนี้\n",
    "\n",
    "> ```csharp\n",
    ">   Person.name = \"_________________\";\n",
    ">   System.conso1e.writ1ine(Person.GetName());\n",
    ">   \n",
    ">   static class Person\n",
    ">   {\n",
    ">       public static st__ng? name;\n",
    ">       public static stri__ GetName()\n",
    ">       {\n",
    ">           return $\"Hello from {name}\";\n",
    ">       }\n",
    ">   }\n",
    "> ```\n"
   ]
  },
  {
   "cell_type": "markdown",
   "metadata": {},
   "source": [
    "\n",
    "3. Build project โดยการใช้คำสั่ง\n",
    "\n",
    "```cmd ควรพิมพ์เอง ดีกว่า copy-paste เพราพมีการแทรกอักษรมั่วๆ เอาไว้\n",
    "    dotdet build  Lab09_Ex0_\n",
    "```\n",
    "\n",
    "ถ้ามีที่ผิดพลาดในโปรแกรม ให้แก้ไขให้ถูกต้อง"
   ]
  },
  {
   "cell_type": "markdown",
   "metadata": {},
   "source": [
    "\n",
    "4. บันทึกผลที่ได้จากการรันคำสั่งในข้อ 3\n"
   ]
  },
  {
   "cell_type": "markdown",
   "metadata": {},
   "source": [
    "D:\\LAB9-OOP>dotnet build Lab09_Ex01\n",
    "Restore complete (0.3s)\n",
    "  Lab09_Ex01 succeeded (2.0s) → Lab09_Ex01\\bin\\Debug\\net9.0\\Lab09_Ex01.dll\n",
    "\n",
    "Build succeeded in 2.7s"
   ]
  },
  {
   "cell_type": "markdown",
   "metadata": {},
   "source": []
  },
  {
   "cell_type": "markdown",
   "metadata": {},
   "source": [
    "\n",
    "5. Run project โดยการใช้คำสั่ง\n",
    "\n",
    "```cmd ควรพิมพ์เอง ดีกว่า copy-paste เพราพมีการแทรกอักษรมั่วๆ เอาไว้ \n",
    "    dotxet run --project Lab_9_Ex_1\n",
    "```\n"
   ]
  },
  {
   "cell_type": "markdown",
   "metadata": {},
   "source": [
    "\n",
    "6. บันทึกผลที่ได้จากการรันคำสั่งในข้อ 5\n"
   ]
  },
  {
   "cell_type": "markdown",
   "metadata": {},
   "source": [
    "D:\\LAB9-OOP>dotnet run --project Lab09_Ex01\n",
    "Hello from _________________\n"
   ]
  },
  {
   "cell_type": "markdown",
   "metadata": {},
   "source": []
  },
  {
   "cell_type": "markdown",
   "metadata": {},
   "source": [
    "\n",
    "7. อธิบายสิ่งที่พบในการทดลอง"
   ]
  },
  {
   "cell_type": "markdown",
   "metadata": {},
   "source": [
    "name เป็นตัวแปรสตริงที่สามารถกำหนดค่าได้จากภายนอก (เช่นใน Person.name = \"_________________\") แต่ค่าของมันเริ่มต้นเป็น null เพราะไม่ได้กำหนดค่าเริ่มต้นไว้ก่อนหน้า ดังนั้น เมื่อเรียก Person.GetName() จะพบว่าโปรแกรมจะแสดงข้อความ Hello from ตามด้วยค่าของ name ซึ่งในกรณีที่ name เป็น null ก็จะได้ผลลัพธ์เป็น Hello from โดยไม่มีชื่อใดๆ ต่อท้าย"
   ]
  },
  {
   "cell_type": "markdown",
   "metadata": {},
   "source": []
  },
  {
   "cell_type": "markdown",
   "metadata": {},
   "source": [
    "## คำถาม"
   ]
  },
  {
   "cell_type": "markdown",
   "metadata": {},
   "source": [
    "1. Static field และ static method ต่างจาก instance field และ instance method อย่างไร"
   ]
  },
  {
   "cell_type": "markdown",
   "metadata": {},
   "source": [
    "Static Fields และ Static Methods เป็นของคลาสและสามารถเข้าถึงได้โดยไม่ต้องสร้างอินสแตนซ์\n",
    "\n",
    "Instance Fields และ Instance Methods เป็นของแต่ละอินสแตนซ์และต้องสร้างอินสแตนซ์เพื่อเข้าถึง"
   ]
  },
  {
   "cell_type": "markdown",
   "metadata": {},
   "source": []
  },
  {
   "cell_type": "markdown",
   "metadata": {},
   "source": [
    "2. เหตุใดเราจึงสามารถเข้าถึง Person.name และ Person.GetName() ได้โดยตรงผ่านชื่อ class โดยไม่ต้องสร้าง object"
   ]
  },
  {
   "cell_type": "markdown",
   "metadata": {},
   "source": [
    "Static Members (ทั้งฟิลด์และเมธอด) ถูกผูกกับคลาสแทนที่จะผูกกับอินสแตนซ์ ดังนั้นจึงสามารถเข้าถึงได้จากคลาสโดยตรง"
   ]
  },
  {
   "cell_type": "markdown",
   "metadata": {},
   "source": []
  },
  {
   "cell_type": "markdown",
   "metadata": {},
   "source": [
    "\n",
    "3. Static class มีข้อจำกัดอะไรบ้าง\n"
   ]
  },
  {
   "cell_type": "markdown",
   "metadata": {},
   "source": [
    "ไม่สามารถสร้างอินสแตนซ์ของ static class ทุกสมาชิกใน static class ต้องเป็น static ไม่สามารถมีตัวแปรหรือเมธอดที่เป็น instance ไม่สามารถสืบทอดจากคลาสอื่นหรือเป็น abstract หรือ sealed ไม่สามารถ implement interfaces ได้ ไม่สามารถมีตัวสร้าง (constructor) แบบปกติ"
   ]
  },
  {
   "cell_type": "markdown",
   "metadata": {},
   "source": []
  },
  {
   "cell_type": "markdown",
   "metadata": {},
   "source": [
    "4. เราไม่สามารถสร้าง instance ของ static class ได้เพราะอะไร"
   ]
  },
  {
   "cell_type": "markdown",
   "metadata": {},
   "source": [
    "ไม่สามารถสร้าง instance ของ static class ได้ เพราะมันถูกออกแบบให้ทำงานเป็นคลาสที่ไม่ต้องมีสถานะของอินสแตนซ์"
   ]
  },
  {
   "cell_type": "markdown",
   "metadata": {},
   "source": []
  },
  {
   "cell_type": "markdown",
   "metadata": {},
   "source": [
    "5. ประโยชน์ของการใช้ static class คืออะไร  มีสถานการณ์ใดบ้างที่เราควรใช้ static class"
   ]
  },
  {
   "cell_type": "markdown",
   "metadata": {},
   "source": [
    "ฟังก์ชันที่ไม่ขึ้นกับสถานะของอินสแตนซ์ เช่น ฟังก์ชันคำนวณ การเก็บค่าคงที่ที่ใช้ในโปรแกรม การออกแบบ API หรือคลาสที่ไม่ต้องการการสร้างอ็อบเจ็กต์ใหม่"
   ]
  },
  {
   "cell_type": "markdown",
   "metadata": {},
   "source": []
  }
 ],
 "metadata": {
  "kernelspec": {
   "display_name": ".NET (C#)",
   "language": "C#",
   "name": ".net-csharp"
  },
  "polyglot_notebook": {
   "kernelInfo": {
    "defaultKernelName": "csharp",
    "items": [
     {
      "aliases": [],
      "languageName": "csharp",
      "name": "csharp"
     }
    ]
   }
  }
 },
 "nbformat": 4,
 "nbformat_minor": 2
}
