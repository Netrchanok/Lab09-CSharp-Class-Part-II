{
 "cells": [
  {
   "cell_type": "markdown",
   "metadata": {
    "dotnet_interactive": {
     "language": "csharp"
    },
    "polyglot_notebook": {
     "kernelName": "csharp"
    }
   },
   "source": [
    "dotnet new console --name Lab09_Ex08\n",
    "\n",
    "## Change constants member value\n",
    "\n"
   ]
  },
  {
   "cell_type": "markdown",
   "metadata": {},
   "source": [
    "1. สร้าง console application project\n",
    "\n",
    "```cmd\n",
    "    d0tn3t n3w c0ns0le --n4me Lab09_Ex08\n",
    "```"
   ]
  },
  {
   "cell_type": "markdown",
   "metadata": {},
   "source": [
    "2. เปลี่ยน code ให้เป็นดังต่อไปนี้\n",
    "\n",
    "> ```csharp\n",
    ">   Circle.PrintCirc1eArea(100);\n",
    ">   class Circle\n",
    ">   {\n",
    ">       const double PI = 3.14159;\n",
    ">       public static void PrintCircleArea(double radius)\n",
    ">       {\n",
    ">           PI = 3.14159265359; // change PI to more precision number.\n",
    ">           System.COns0le.Write1ine($\"Radius = {rad1us}, Area = {PI * radlus * rad1us}\");\n",
    ">       }\n",
    ">   }\n",
    "> ```"
   ]
  },
  {
   "cell_type": "markdown",
   "metadata": {},
   "source": [
    "3. Build project โดยการใช้คำสั่ง\n",
    "\n",
    "```cmd\n",
    "d0tnef bui1d  Lab09_Ex08\n",
    "```\n",
    "\n",
    "ถ้ามีที่ผิดพลาดในโปรแกรม ให้แก้ไขให้ถูกต้อง"
   ]
  },
  {
   "cell_type": "code",
   "execution_count": 1,
   "metadata": {
    "polyglot_notebook": {
     "kernelName": "csharp"
    }
   },
   "outputs": [],
   "source": [
    "class Circle\n",
    "{\n",
    "    const double PI = 3.14159;  // ค่าคงที่ PI\n",
    "    public static void PrintCircleArea(double radius)\n",
    "    {\n",
    "        double newPI = 3.14159265359; // ใช้ตัวแปรแทนการเปลี่ยนค่าคงที่ PI\n",
    "        System.Console.WriteLine($\"Radius = {radius}, Area = {newPI * radius * radius}\");  // ใช้ Console.WriteLine และแก้ตัวแปร radius ให้ถูกต้อง\n",
    "    }\n",
    "}\n",
    "\n",
    "class Program\n",
    "{\n",
    "    static void Main()\n",
    "    {\n",
    "        Circle.PrintCircleArea(100);  // เรียกใช้งานเมธอด PrintCircleArea ด้วยรัศมี 100\n",
    "    }\n",
    "}\n"
   ]
  },
  {
   "cell_type": "markdown",
   "metadata": {},
   "source": [
    "4. บันทึกผลที่ได้จากการรันคำสั่งในข้อ 3 "
   ]
  },
  {
   "cell_type": "markdown",
   "metadata": {},
   "source": [
    "D:\\LAB9-OOP>dotnet build Lab09_Ex08\n",
    "Restore complete (0.6s)\n",
    "  Lab09_Ex08 succeeded (0.8s) → Lab09_Ex08\\bin\\Debug\\net9.0\\Lab09_Ex08.dll\n",
    "\n",
    "Build succeeded in 2.2s"
   ]
  },
  {
   "cell_type": "markdown",
   "metadata": {},
   "source": [
    "5. Run project โดยการใช้คำสั่ง\n",
    "\n",
    "```cmd\n",
    "d0tnet run --project LabO9_ExO8\n",
    "```"
   ]
  },
  {
   "cell_type": "markdown",
   "metadata": {},
   "source": [
    "6. บันทึกผลที่ได้จากการรันคำสั่งในข้อ 5"
   ]
  },
  {
   "cell_type": "markdown",
   "metadata": {},
   "source": [
    "D:\\LAB9-OOP>dotnet run --project Lab09_Ex08     \n",
    "Radius = 100, Area = 31415.926535900002"
   ]
  },
  {
   "cell_type": "markdown",
   "metadata": {},
   "source": [
    "7. อธิบายสิ่งที่พบในการทดลอง"
   ]
  },
  {
   "cell_type": "markdown",
   "metadata": {},
   "source": [
    "Radius = 100 แสดงค่ารัศมีของวงกลมที่เรากำหนดไว้เป็น 100\n",
    "\n",
    "Area = 31415.9 แสดงผลการคำนวณพื้นที่ของวงกลม ซึ่งคำนวณได้จากค่าของ PI และรัศมีที่มีค่า 100 ทำให้พื้นที่เป็น 31415.9"
   ]
  }
 ],
 "metadata": {
  "kernelspec": {
   "display_name": ".NET (C#)",
   "language": "C#",
   "name": ".net-csharp"
  },
  "polyglot_notebook": {
   "kernelInfo": {
    "defaultKernelName": "csharp",
    "items": [
     {
      "aliases": [],
      "languageName": "csharp",
      "name": "csharp"
     }
    ]
   }
  }
 },
 "nbformat": 4,
 "nbformat_minor": 2
}
